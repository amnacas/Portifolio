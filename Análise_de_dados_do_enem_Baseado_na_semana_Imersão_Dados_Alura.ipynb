{
  "nbformat": 4,
  "nbformat_minor": 0,
  "metadata": {
    "colab": {
      "name": "Análise de dados do enem - Baseado na semana Imersão Dados Alura.ipynb",
      "provenance": [],
      "authorship_tag": "ABX9TyPvVCHEOZNc0TyXWOR8ozl3",
      "include_colab_link": true
    },
    "kernelspec": {
      "name": "python3",
      "display_name": "Python 3"
    }
  },
  "cells": [
    {
      "cell_type": "markdown",
      "metadata": {
        "id": "view-in-github",
        "colab_type": "text"
      },
      "source": [
        "<a href=\"https://colab.research.google.com/github/amnacas/Portifolio/blob/master/An%C3%A1lise_de_dados_do_enem_Baseado_na_semana_Imers%C3%A3o_Dados_Alura.ipynb\" target=\"_parent\"><img src=\"https://colab.research.google.com/assets/colab-badge.svg\" alt=\"Open In Colab\"/></a>"
      ]
    },
    {
      "cell_type": "markdown",
      "metadata": {
        "id": "XPrRP0cx2q7G"
      },
      "source": [
        "![enem-2019.jpg](data:image/jpeg;base64,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)"
      ]
    },
    {
      "cell_type": "markdown",
      "metadata": {
        "id": "eOXqaXKJ1LTP"
      },
      "source": [
        "# Análise de dados do Enem"
      ]
    },
    {
      "cell_type": "markdown",
      "metadata": {
        "id": "HH0yxWfv48sc"
      },
      "source": [
        "\n",
        "\n",
        "> Criado em 1998, o Exame Nacional do Ensino Médio (Enem) tem o objetivo de avaliar o desempenho do estudante ao fim da escolaridade básica. Podem participar do exame alunos que estão concluindo ou que já concluíram o ensino médio em anos anteriores. [Portal MEC](<http://portal.mec.gov.br/enem-sp-2094708791>)\n",
        "\n",
        " \n",
        "\n",
        "> O Enem é utilizado como critério de seleção para os estudantes que pretendem concorrer a uma bolsa no Programa Universidade para Todos (ProUni). Além disso, cerca de 500 universidades já usam o resultado do exame como critério de seleção para o ingresso no ensino superior, seja complementando ou substituindo o vestibular. [Portal MEC](<http://portal.mec.gov.br/enem-sp-2094708791>)\n",
        "\n",
        "\n",
        "\n",
        "\n"
      ]
    },
    {
      "cell_type": "markdown",
      "metadata": {
        "id": "hj3dHXDE1TC1"
      },
      "source": [
        "##Motivação"
      ]
    },
    {
      "cell_type": "markdown",
      "metadata": {
        "id": "-XJjwI9I1lng"
      },
      "source": [
        "Esse projeto foi desenvolvido durante a semana Imersão Dados da [Alura](http://www.alura.com.br).\n",
        "\n",
        "Todo ano milhares de pessoas prestam o exame nacional do ensino médio (ENEM), seja como treineiro ou oficialmente. \n",
        "\n",
        "O enem deixou de ser apenas uma avaliação do desempenho do estudante ao fim do ensino médio e passou a ser utilizado como criterio de seleção para concorrer a vagas em diversas universidade e tambem para obtenção de bolsas integrais e parciais do Programa Unversidade para todos (ProUni).\n",
        "\n",
        "Ao se inscrever no Enem a pessoa preenche um formulário socioeconômico que tem como objetivo de traçar o perfil desses estudantes e com isso aperfeiçoar a politica educacional do ministerio da educação. Esses dados são armazenados de forma anônima juntamente com os resultados da provas e podem ser encontrados no site do [INEP](<http://inep.gov.br/microdados>). \n",
        "\n",
        "Utilizando esses dados socioeconômicos disponibilizados pelo INEP e os resultados das provas realizadas no ano de 2019 será realizada uma análise da influência dos fatores citados abaixo nos resultados das provas do enem e com isso gerar uma reflexão a respeito dos resultados obtidos.\n",
        "\n",
        "Fatores que serão analisados:\n",
        "\n",
        "* Cor/Raça\n",
        "* Escola pública ou particular\n",
        "* Treineiro\n",
        "* Deficiencias ou condição especiais\n",
        "* Renda familiar (Q006)\n",
        "* Mobilidade\n",
        "  * Carro na residência (Q010)\n",
        "  * Moto na Residencia (Q011)\n",
        "* Acesso a internet (Q025)\n",
        "* Acesso a computador (Q024)\n",
        "\n",
        "\n"
      ]
    },
    {
      "cell_type": "markdown",
      "metadata": {
        "id": "wojtD95T1mK2"
      },
      "source": [
        "##Dados"
      ]
    },
    {
      "cell_type": "markdown",
      "metadata": {
        "id": "_PlP2Xwr1qoG"
      },
      "source": [
        "Ao se inscrever no Enem a pessoa preenche um formulário socioeconômico que tem como objetivo de traçar o perfil desses estudantes e com isso aperfeiçoar a politica educacional do ministerio da educação. Esses dados são armazenados de forma anônima juntamente com os resultados da provas e podem ser encontrados no site do [INEP](<http://inep.gov.br/microdados>). "
      ]
    },
    {
      "cell_type": "markdown",
      "metadata": {
        "id": "0_FqAXPY1rQl"
      },
      "source": [
        "##Dicionário de Variáveis"
      ]
    },
    {
      "cell_type": "markdown",
      "metadata": {
        "id": "kDlWyTRp10yG"
      },
      "source": [
        ""
      ]
    },
    {
      "cell_type": "markdown",
      "metadata": {
        "id": "6aeghojL11e0"
      },
      "source": [
        "##Bibliotecas utilizadas"
      ]
    },
    {
      "cell_type": "markdown",
      "metadata": {
        "id": "fwKs0rUY16VW"
      },
      "source": [
        ""
      ]
    },
    {
      "cell_type": "markdown",
      "metadata": {
        "id": "LaJmVicW168N"
      },
      "source": [
        "##Análise dos dados"
      ]
    },
    {
      "cell_type": "markdown",
      "metadata": {
        "id": "xOAyyTLe2Ag8"
      },
      "source": [
        ""
      ]
    },
    {
      "cell_type": "markdown",
      "metadata": {
        "id": "r2rUnaeI2CS9"
      },
      "source": [
        "##Modelo preditivo de Machine Learning"
      ]
    },
    {
      "cell_type": "markdown",
      "metadata": {
        "id": "J7HaLT-72NFl"
      },
      "source": [
        ""
      ]
    },
    {
      "cell_type": "markdown",
      "metadata": {
        "id": "mgKpkQjK2US2"
      },
      "source": [
        "#Conclusões"
      ]
    },
    {
      "cell_type": "markdown",
      "metadata": {
        "id": "crViyagj2aMw"
      },
      "source": [
        ""
      ]
    },
    {
      "cell_type": "markdown",
      "metadata": {
        "id": "rj3TpZn52Z1m"
      },
      "source": [
        "#Referência Bibliográfica"
      ]
    },
    {
      "cell_type": "markdown",
      "metadata": {
        "id": "3vBwvZCO2jGE"
      },
      "source": [
        "https://github.com/mariannamassi/Data-Visualization/blob/main/EstudoSocial_ENEM2019%20(1).ipynb"
      ]
    }
  ]
}