{
  "nbformat": 4,
  "nbformat_minor": 0,
  "metadata": {
    "colab": {
      "name": "Data cleaning ",
      "provenance": [],
      "authorship_tag": "ABX9TyP5sxr7YSKbF8s3GETx52Ub",
      "include_colab_link": true
    },
    "kernelspec": {
      "name": "python3",
      "display_name": "Python 3"
    }
  },
  "cells": [
    {
      "cell_type": "markdown",
      "metadata": {
        "id": "view-in-github",
        "colab_type": "text"
      },
      "source": [
        "<a href=\"https://colab.research.google.com/github/amnacas/Portifolio/blob/master/Data_cleaning.ipynb\" target=\"_parent\"><img src=\"https://colab.research.google.com/assets/colab-badge.svg\" alt=\"Open In Colab\"/></a>"
      ]
    },
    {
      "cell_type": "markdown",
      "metadata": {
        "id": "XCsvq8KkSEkm"
      },
      "source": [
        "# **Data Cleaning - Passo a passo**"
      ]
    },
    {
      "cell_type": "markdown",
      "metadata": {
        "id": "xjf_Ie47STxL"
      },
      "source": [
        "## **Importando bibliotecas e verificando o dataset**"
      ]
    },
    {
      "cell_type": "code",
      "metadata": {
        "id": "qjIgChfTCoCQ"
      },
      "source": [
        "# Importando as bibliotecas\n",
        "import numpy as np\n",
        "import pandas as pd\n",
        "import seaborn as sns\n",
        "import matplotlib.pyplot as plt\n",
        "%matplotlib inline"
      ],
      "execution_count": null,
      "outputs": []
    },
    {
      "cell_type": "code",
      "metadata": {
        "id": "dtuuqvzUDLwS",
        "outputId": "eb694b36-28d5-4cfb-e23a-39aa5237139a",
        "colab": {
          "base_uri": "https://localhost:8080/",
          "height": 72
        }
      },
      "source": [
        "# Importando o arquivo .csv para o dataset\n",
        "data = pd.read_csv(\"https://raw.githubusercontent.com/Kaushik-Varma/Marketing_Data_Analysis/master/Marketing_Analysis.csv\")"
      ],
      "execution_count": null,
      "outputs": [
        {
          "output_type": "stream",
          "text": [
            "/usr/local/lib/python3.6/dist-packages/IPython/core/interactiveshell.py:2718: DtypeWarning: Columns (0,1,2,3,11,14,15,16) have mixed types.Specify dtype option on import or set low_memory=False.\n",
            "  interactivity=interactivity, compiler=compiler, result=result)\n"
          ],
          "name": "stderr"
        }
      ]
    },
    {
      "cell_type": "code",
      "metadata": {
        "id": "udwwTFBIEMuR",
        "outputId": "51a03da3-b5e3-4c1f-ea66-d199526cd14e",
        "colab": {
          "base_uri": "https://localhost:8080/",
          "height": 349
        }
      },
      "source": [
        "# Dando uma olhada no inicio do dataset\n",
        "data.head()"
      ],
      "execution_count": null,
      "outputs": [
        {
          "output_type": "execute_result",
          "data": {
            "text/html": [
              "<div>\n",
              "<style scoped>\n",
              "    .dataframe tbody tr th:only-of-type {\n",
              "        vertical-align: middle;\n",
              "    }\n",
              "\n",
              "    .dataframe tbody tr th {\n",
              "        vertical-align: top;\n",
              "    }\n",
              "\n",
              "    .dataframe thead th {\n",
              "        text-align: right;\n",
              "    }\n",
              "</style>\n",
              "<table border=\"1\" class=\"dataframe\">\n",
              "  <thead>\n",
              "    <tr style=\"text-align: right;\">\n",
              "      <th></th>\n",
              "      <th>banking marketing</th>\n",
              "      <th>Unnamed: 1</th>\n",
              "      <th>Unnamed: 2</th>\n",
              "      <th>Unnamed: 3</th>\n",
              "      <th>Unnamed: 4</th>\n",
              "      <th>Unnamed: 5</th>\n",
              "      <th>Unnamed: 6</th>\n",
              "      <th>Unnamed: 7</th>\n",
              "      <th>Unnamed: 8</th>\n",
              "      <th>Unnamed: 9</th>\n",
              "      <th>Unnamed: 10</th>\n",
              "      <th>Unnamed: 11</th>\n",
              "      <th>Unnamed: 12</th>\n",
              "      <th>Unnamed: 13</th>\n",
              "      <th>Unnamed: 14</th>\n",
              "      <th>Unnamed: 15</th>\n",
              "      <th>Unnamed: 16</th>\n",
              "      <th>Unnamed: 17</th>\n",
              "      <th>Unnamed: 18</th>\n",
              "    </tr>\n",
              "  </thead>\n",
              "  <tbody>\n",
              "    <tr>\n",
              "      <th>0</th>\n",
              "      <td>customer id and age.</td>\n",
              "      <td>NaN</td>\n",
              "      <td>Customer salary and balance.</td>\n",
              "      <td>NaN</td>\n",
              "      <td>Customer marital status and job with education...</td>\n",
              "      <td>NaN</td>\n",
              "      <td>particular customer before targeted or not</td>\n",
              "      <td>NaN</td>\n",
              "      <td>Loan types: loans or housing loans</td>\n",
              "      <td>NaN</td>\n",
              "      <td>Contact type</td>\n",
              "      <td>NaN</td>\n",
              "      <td>month of contact</td>\n",
              "      <td>duration of call</td>\n",
              "      <td>NaN</td>\n",
              "      <td>NaN</td>\n",
              "      <td>NaN</td>\n",
              "      <td>outcome of previous contact</td>\n",
              "      <td>response of customer after call happned</td>\n",
              "    </tr>\n",
              "    <tr>\n",
              "      <th>1</th>\n",
              "      <td>customerid</td>\n",
              "      <td>age</td>\n",
              "      <td>salary</td>\n",
              "      <td>balance</td>\n",
              "      <td>marital</td>\n",
              "      <td>jobedu</td>\n",
              "      <td>targeted</td>\n",
              "      <td>default</td>\n",
              "      <td>housing</td>\n",
              "      <td>loan</td>\n",
              "      <td>contact</td>\n",
              "      <td>day</td>\n",
              "      <td>month</td>\n",
              "      <td>duration</td>\n",
              "      <td>campaign</td>\n",
              "      <td>pdays</td>\n",
              "      <td>previous</td>\n",
              "      <td>poutcome</td>\n",
              "      <td>response</td>\n",
              "    </tr>\n",
              "    <tr>\n",
              "      <th>2</th>\n",
              "      <td>1</td>\n",
              "      <td>58</td>\n",
              "      <td>100000</td>\n",
              "      <td>2143</td>\n",
              "      <td>married</td>\n",
              "      <td>management,tertiary</td>\n",
              "      <td>yes</td>\n",
              "      <td>no</td>\n",
              "      <td>yes</td>\n",
              "      <td>no</td>\n",
              "      <td>unknown</td>\n",
              "      <td>5</td>\n",
              "      <td>may, 2017</td>\n",
              "      <td>261 sec</td>\n",
              "      <td>1</td>\n",
              "      <td>-1</td>\n",
              "      <td>0</td>\n",
              "      <td>unknown</td>\n",
              "      <td>no</td>\n",
              "    </tr>\n",
              "    <tr>\n",
              "      <th>3</th>\n",
              "      <td>2</td>\n",
              "      <td>44</td>\n",
              "      <td>60000</td>\n",
              "      <td>29</td>\n",
              "      <td>single</td>\n",
              "      <td>technician,secondary</td>\n",
              "      <td>yes</td>\n",
              "      <td>no</td>\n",
              "      <td>yes</td>\n",
              "      <td>no</td>\n",
              "      <td>unknown</td>\n",
              "      <td>5</td>\n",
              "      <td>may, 2017</td>\n",
              "      <td>151 sec</td>\n",
              "      <td>1</td>\n",
              "      <td>-1</td>\n",
              "      <td>0</td>\n",
              "      <td>unknown</td>\n",
              "      <td>no</td>\n",
              "    </tr>\n",
              "    <tr>\n",
              "      <th>4</th>\n",
              "      <td>3</td>\n",
              "      <td>33</td>\n",
              "      <td>120000</td>\n",
              "      <td>2</td>\n",
              "      <td>married</td>\n",
              "      <td>entrepreneur,secondary</td>\n",
              "      <td>yes</td>\n",
              "      <td>no</td>\n",
              "      <td>yes</td>\n",
              "      <td>yes</td>\n",
              "      <td>unknown</td>\n",
              "      <td>5</td>\n",
              "      <td>may, 2017</td>\n",
              "      <td>76 sec</td>\n",
              "      <td>1</td>\n",
              "      <td>-1</td>\n",
              "      <td>0</td>\n",
              "      <td>unknown</td>\n",
              "      <td>no</td>\n",
              "    </tr>\n",
              "  </tbody>\n",
              "</table>\n",
              "</div>"
            ],
            "text/plain": [
              "      banking marketing  ...                              Unnamed: 18\n",
              "0  customer id and age.  ...  response of customer after call happned\n",
              "1            customerid  ...                                 response\n",
              "2                     1  ...                                       no\n",
              "3                     2  ...                                       no\n",
              "4                     3  ...                                       no\n",
              "\n",
              "[5 rows x 19 columns]"
            ]
          },
          "metadata": {
            "tags": []
          },
          "execution_count": 22
        }
      ]
    },
    {
      "cell_type": "code",
      "metadata": {
        "id": "j6Zcb12xEVDf",
        "outputId": "dd7a8e45-ed5e-4e7c-a8c8-8852ae800e51",
        "colab": {
          "base_uri": "https://localhost:8080/",
          "height": 298
        }
      },
      "source": [
        "# Dando uma olhada no final do dataset\n",
        "data.tail()"
      ],
      "execution_count": null,
      "outputs": [
        {
          "output_type": "execute_result",
          "data": {
            "text/html": [
              "<div>\n",
              "<style scoped>\n",
              "    .dataframe tbody tr th:only-of-type {\n",
              "        vertical-align: middle;\n",
              "    }\n",
              "\n",
              "    .dataframe tbody tr th {\n",
              "        vertical-align: top;\n",
              "    }\n",
              "\n",
              "    .dataframe thead th {\n",
              "        text-align: right;\n",
              "    }\n",
              "</style>\n",
              "<table border=\"1\" class=\"dataframe\">\n",
              "  <thead>\n",
              "    <tr style=\"text-align: right;\">\n",
              "      <th></th>\n",
              "      <th>banking marketing</th>\n",
              "      <th>Unnamed: 1</th>\n",
              "      <th>Unnamed: 2</th>\n",
              "      <th>Unnamed: 3</th>\n",
              "      <th>Unnamed: 4</th>\n",
              "      <th>Unnamed: 5</th>\n",
              "      <th>Unnamed: 6</th>\n",
              "      <th>Unnamed: 7</th>\n",
              "      <th>Unnamed: 8</th>\n",
              "      <th>Unnamed: 9</th>\n",
              "      <th>Unnamed: 10</th>\n",
              "      <th>Unnamed: 11</th>\n",
              "      <th>Unnamed: 12</th>\n",
              "      <th>Unnamed: 13</th>\n",
              "      <th>Unnamed: 14</th>\n",
              "      <th>Unnamed: 15</th>\n",
              "      <th>Unnamed: 16</th>\n",
              "      <th>Unnamed: 17</th>\n",
              "      <th>Unnamed: 18</th>\n",
              "    </tr>\n",
              "  </thead>\n",
              "  <tbody>\n",
              "    <tr>\n",
              "      <th>45208</th>\n",
              "      <td>45207</td>\n",
              "      <td>51</td>\n",
              "      <td>60000</td>\n",
              "      <td>825</td>\n",
              "      <td>married</td>\n",
              "      <td>technician,tertiary</td>\n",
              "      <td>yes</td>\n",
              "      <td>no</td>\n",
              "      <td>no</td>\n",
              "      <td>no</td>\n",
              "      <td>cellular</td>\n",
              "      <td>17</td>\n",
              "      <td>nov, 2017</td>\n",
              "      <td>16.2833333333333 min</td>\n",
              "      <td>3</td>\n",
              "      <td>-1</td>\n",
              "      <td>0</td>\n",
              "      <td>unknown</td>\n",
              "      <td>yes</td>\n",
              "    </tr>\n",
              "    <tr>\n",
              "      <th>45209</th>\n",
              "      <td>45208</td>\n",
              "      <td>71</td>\n",
              "      <td>55000</td>\n",
              "      <td>1729</td>\n",
              "      <td>divorced</td>\n",
              "      <td>retired,primary</td>\n",
              "      <td>yes</td>\n",
              "      <td>no</td>\n",
              "      <td>no</td>\n",
              "      <td>no</td>\n",
              "      <td>cellular</td>\n",
              "      <td>17</td>\n",
              "      <td>nov, 2017</td>\n",
              "      <td>7.6 min</td>\n",
              "      <td>2</td>\n",
              "      <td>-1</td>\n",
              "      <td>0</td>\n",
              "      <td>unknown</td>\n",
              "      <td>yes</td>\n",
              "    </tr>\n",
              "    <tr>\n",
              "      <th>45210</th>\n",
              "      <td>45209</td>\n",
              "      <td>72</td>\n",
              "      <td>55000</td>\n",
              "      <td>5715</td>\n",
              "      <td>married</td>\n",
              "      <td>retired,secondary</td>\n",
              "      <td>yes</td>\n",
              "      <td>no</td>\n",
              "      <td>no</td>\n",
              "      <td>no</td>\n",
              "      <td>cellular</td>\n",
              "      <td>17</td>\n",
              "      <td>nov, 2017</td>\n",
              "      <td>18.7833333333333 min</td>\n",
              "      <td>5</td>\n",
              "      <td>184</td>\n",
              "      <td>3</td>\n",
              "      <td>success</td>\n",
              "      <td>yes</td>\n",
              "    </tr>\n",
              "    <tr>\n",
              "      <th>45211</th>\n",
              "      <td>45210</td>\n",
              "      <td>57</td>\n",
              "      <td>20000</td>\n",
              "      <td>668</td>\n",
              "      <td>married</td>\n",
              "      <td>blue-collar,secondary</td>\n",
              "      <td>yes</td>\n",
              "      <td>no</td>\n",
              "      <td>no</td>\n",
              "      <td>no</td>\n",
              "      <td>telephone</td>\n",
              "      <td>17</td>\n",
              "      <td>nov, 2017</td>\n",
              "      <td>8.46666666666667 min</td>\n",
              "      <td>4</td>\n",
              "      <td>-1</td>\n",
              "      <td>0</td>\n",
              "      <td>unknown</td>\n",
              "      <td>no</td>\n",
              "    </tr>\n",
              "    <tr>\n",
              "      <th>45212</th>\n",
              "      <td>45211</td>\n",
              "      <td>37</td>\n",
              "      <td>120000</td>\n",
              "      <td>2971</td>\n",
              "      <td>married</td>\n",
              "      <td>entrepreneur,secondary</td>\n",
              "      <td>yes</td>\n",
              "      <td>no</td>\n",
              "      <td>no</td>\n",
              "      <td>no</td>\n",
              "      <td>cellular</td>\n",
              "      <td>17</td>\n",
              "      <td>nov, 2017</td>\n",
              "      <td>6.01666666666667 min</td>\n",
              "      <td>2</td>\n",
              "      <td>188</td>\n",
              "      <td>11</td>\n",
              "      <td>other</td>\n",
              "      <td>no</td>\n",
              "    </tr>\n",
              "  </tbody>\n",
              "</table>\n",
              "</div>"
            ],
            "text/plain": [
              "      banking marketing Unnamed: 1  ... Unnamed: 17 Unnamed: 18\n",
              "45208             45207         51  ...     unknown         yes\n",
              "45209             45208         71  ...     unknown         yes\n",
              "45210             45209         72  ...     success         yes\n",
              "45211             45210         57  ...     unknown          no\n",
              "45212             45211         37  ...       other          no\n",
              "\n",
              "[5 rows x 19 columns]"
            ]
          },
          "metadata": {
            "tags": []
          },
          "execution_count": 23
        }
      ]
    },
    {
      "cell_type": "code",
      "metadata": {
        "id": "wFyfn2S8EeS4",
        "outputId": "8e4047be-7639-43e0-865f-00ed415c39ea",
        "colab": {
          "base_uri": "https://localhost:8080/",
          "height": 390
        }
      },
      "source": [
        "# Verificando as variáveis\n",
        "print(\"Tipos das variáveis:\")\n",
        "data.dtypes"
      ],
      "execution_count": null,
      "outputs": [
        {
          "output_type": "stream",
          "text": [
            "Tipos das variáveis:\n"
          ],
          "name": "stdout"
        },
        {
          "output_type": "execute_result",
          "data": {
            "text/plain": [
              "banking marketing    object\n",
              "Unnamed: 1           object\n",
              "Unnamed: 2           object\n",
              "Unnamed: 3           object\n",
              "Unnamed: 4           object\n",
              "Unnamed: 5           object\n",
              "Unnamed: 6           object\n",
              "Unnamed: 7           object\n",
              "Unnamed: 8           object\n",
              "Unnamed: 9           object\n",
              "Unnamed: 10          object\n",
              "Unnamed: 11          object\n",
              "Unnamed: 12          object\n",
              "Unnamed: 13          object\n",
              "Unnamed: 14          object\n",
              "Unnamed: 15          object\n",
              "Unnamed: 16          object\n",
              "Unnamed: 17          object\n",
              "Unnamed: 18          object\n",
              "dtype: object"
            ]
          },
          "metadata": {
            "tags": []
          },
          "execution_count": 24
        }
      ]
    },
    {
      "cell_type": "markdown",
      "metadata": {
        "id": "45fzHnmXSeMF"
      },
      "source": [
        "## **Removendo linhas e colunas desnecessárias**"
      ]
    },
    {
      "cell_type": "code",
      "metadata": {
        "id": "1prs09AnHCFs",
        "outputId": "879e4c9a-2400-4b3c-e3a3-d73113319f2e",
        "colab": {
          "base_uri": "https://localhost:8080/",
          "height": 298
        }
      },
      "source": [
        "# Importando o arquivo .csv para o dataset já desprezando as duas primeiras linhas\n",
        "\n",
        "data = pd.read_csv(\"https://raw.githubusercontent.com/Kaushik-Varma/Marketing_Data_Analysis/master/Marketing_Analysis.csv\", skiprows = 2)\n",
        "data.head()"
      ],
      "execution_count": null,
      "outputs": [
        {
          "output_type": "execute_result",
          "data": {
            "text/html": [
              "<div>\n",
              "<style scoped>\n",
              "    .dataframe tbody tr th:only-of-type {\n",
              "        vertical-align: middle;\n",
              "    }\n",
              "\n",
              "    .dataframe tbody tr th {\n",
              "        vertical-align: top;\n",
              "    }\n",
              "\n",
              "    .dataframe thead th {\n",
              "        text-align: right;\n",
              "    }\n",
              "</style>\n",
              "<table border=\"1\" class=\"dataframe\">\n",
              "  <thead>\n",
              "    <tr style=\"text-align: right;\">\n",
              "      <th></th>\n",
              "      <th>customerid</th>\n",
              "      <th>age</th>\n",
              "      <th>salary</th>\n",
              "      <th>balance</th>\n",
              "      <th>marital</th>\n",
              "      <th>jobedu</th>\n",
              "      <th>targeted</th>\n",
              "      <th>default</th>\n",
              "      <th>housing</th>\n",
              "      <th>loan</th>\n",
              "      <th>contact</th>\n",
              "      <th>day</th>\n",
              "      <th>month</th>\n",
              "      <th>duration</th>\n",
              "      <th>campaign</th>\n",
              "      <th>pdays</th>\n",
              "      <th>previous</th>\n",
              "      <th>poutcome</th>\n",
              "      <th>response</th>\n",
              "    </tr>\n",
              "  </thead>\n",
              "  <tbody>\n",
              "    <tr>\n",
              "      <th>0</th>\n",
              "      <td>1</td>\n",
              "      <td>58.0</td>\n",
              "      <td>100000</td>\n",
              "      <td>2143</td>\n",
              "      <td>married</td>\n",
              "      <td>management,tertiary</td>\n",
              "      <td>yes</td>\n",
              "      <td>no</td>\n",
              "      <td>yes</td>\n",
              "      <td>no</td>\n",
              "      <td>unknown</td>\n",
              "      <td>5</td>\n",
              "      <td>may, 2017</td>\n",
              "      <td>261 sec</td>\n",
              "      <td>1</td>\n",
              "      <td>-1</td>\n",
              "      <td>0</td>\n",
              "      <td>unknown</td>\n",
              "      <td>no</td>\n",
              "    </tr>\n",
              "    <tr>\n",
              "      <th>1</th>\n",
              "      <td>2</td>\n",
              "      <td>44.0</td>\n",
              "      <td>60000</td>\n",
              "      <td>29</td>\n",
              "      <td>single</td>\n",
              "      <td>technician,secondary</td>\n",
              "      <td>yes</td>\n",
              "      <td>no</td>\n",
              "      <td>yes</td>\n",
              "      <td>no</td>\n",
              "      <td>unknown</td>\n",
              "      <td>5</td>\n",
              "      <td>may, 2017</td>\n",
              "      <td>151 sec</td>\n",
              "      <td>1</td>\n",
              "      <td>-1</td>\n",
              "      <td>0</td>\n",
              "      <td>unknown</td>\n",
              "      <td>no</td>\n",
              "    </tr>\n",
              "    <tr>\n",
              "      <th>2</th>\n",
              "      <td>3</td>\n",
              "      <td>33.0</td>\n",
              "      <td>120000</td>\n",
              "      <td>2</td>\n",
              "      <td>married</td>\n",
              "      <td>entrepreneur,secondary</td>\n",
              "      <td>yes</td>\n",
              "      <td>no</td>\n",
              "      <td>yes</td>\n",
              "      <td>yes</td>\n",
              "      <td>unknown</td>\n",
              "      <td>5</td>\n",
              "      <td>may, 2017</td>\n",
              "      <td>76 sec</td>\n",
              "      <td>1</td>\n",
              "      <td>-1</td>\n",
              "      <td>0</td>\n",
              "      <td>unknown</td>\n",
              "      <td>no</td>\n",
              "    </tr>\n",
              "    <tr>\n",
              "      <th>3</th>\n",
              "      <td>4</td>\n",
              "      <td>47.0</td>\n",
              "      <td>20000</td>\n",
              "      <td>1506</td>\n",
              "      <td>married</td>\n",
              "      <td>blue-collar,unknown</td>\n",
              "      <td>no</td>\n",
              "      <td>no</td>\n",
              "      <td>yes</td>\n",
              "      <td>no</td>\n",
              "      <td>unknown</td>\n",
              "      <td>5</td>\n",
              "      <td>may, 2017</td>\n",
              "      <td>92 sec</td>\n",
              "      <td>1</td>\n",
              "      <td>-1</td>\n",
              "      <td>0</td>\n",
              "      <td>unknown</td>\n",
              "      <td>no</td>\n",
              "    </tr>\n",
              "    <tr>\n",
              "      <th>4</th>\n",
              "      <td>5</td>\n",
              "      <td>33.0</td>\n",
              "      <td>0</td>\n",
              "      <td>1</td>\n",
              "      <td>single</td>\n",
              "      <td>unknown,unknown</td>\n",
              "      <td>no</td>\n",
              "      <td>no</td>\n",
              "      <td>no</td>\n",
              "      <td>no</td>\n",
              "      <td>unknown</td>\n",
              "      <td>5</td>\n",
              "      <td>may, 2017</td>\n",
              "      <td>198 sec</td>\n",
              "      <td>1</td>\n",
              "      <td>-1</td>\n",
              "      <td>0</td>\n",
              "      <td>unknown</td>\n",
              "      <td>no</td>\n",
              "    </tr>\n",
              "  </tbody>\n",
              "</table>\n",
              "</div>"
            ],
            "text/plain": [
              "   customerid   age  salary  balance  ... pdays previous poutcome response\n",
              "0           1  58.0  100000     2143  ...    -1        0  unknown       no\n",
              "1           2  44.0   60000       29  ...    -1        0  unknown       no\n",
              "2           3  33.0  120000        2  ...    -1        0  unknown       no\n",
              "3           4  47.0   20000     1506  ...    -1        0  unknown       no\n",
              "4           5  33.0       0        1  ...    -1        0  unknown       no\n",
              "\n",
              "[5 rows x 19 columns]"
            ]
          },
          "metadata": {
            "tags": []
          },
          "execution_count": 25
        }
      ]
    },
    {
      "cell_type": "code",
      "metadata": {
        "id": "rrAw9ABYPZoP",
        "outputId": "681db36a-7492-4bdd-dc99-c38bcce8ab68",
        "colab": {
          "base_uri": "https://localhost:8080/",
          "height": 390
        }
      },
      "source": [
        "# Verificando novamente as variáveis\n",
        "print(\"Tipos das variáveis:\")\n",
        "data.dtypes"
      ],
      "execution_count": null,
      "outputs": [
        {
          "output_type": "stream",
          "text": [
            "Tipos das variáveis:\n"
          ],
          "name": "stdout"
        },
        {
          "output_type": "execute_result",
          "data": {
            "text/plain": [
              "customerid      int64\n",
              "age           float64\n",
              "salary          int64\n",
              "balance         int64\n",
              "marital        object\n",
              "jobedu         object\n",
              "targeted       object\n",
              "default        object\n",
              "housing        object\n",
              "loan           object\n",
              "contact        object\n",
              "day             int64\n",
              "month          object\n",
              "duration       object\n",
              "campaign        int64\n",
              "pdays           int64\n",
              "previous        int64\n",
              "poutcome       object\n",
              "response       object\n",
              "dtype: object"
            ]
          },
          "metadata": {
            "tags": []
          },
          "execution_count": 26
        }
      ]
    },
    {
      "cell_type": "code",
      "metadata": {
        "id": "O-kEcsxJPiVV"
      },
      "source": [
        "# Drop the customer id as it is of no use.\n",
        "data.drop('customerid', axis = 1, inplace = True)"
      ],
      "execution_count": null,
      "outputs": []
    },
    {
      "cell_type": "markdown",
      "metadata": {
        "id": "TB5pTBmUS1kr"
      },
      "source": [
        "## **Extraindo informações da coluna *jobedu* e tranformando em 2 novas colunas (job e edu)**"
      ]
    },
    {
      "cell_type": "code",
      "metadata": {
        "id": "aLziPqBNSqJe",
        "outputId": "5a447faf-8f54-4f5e-d668-4b0bff47d4fe",
        "colab": {
          "base_uri": "https://localhost:8080/",
          "height": 298
        }
      },
      "source": [
        "#Extract job  & Education in newly from \"jobedu\" column.\n",
        "data['job']= data[\"jobedu\"].apply(lambda x: x.split(\",\")[0])\n",
        "data['education']= data[\"jobedu\"].apply(lambda x: x.split(\",\")[1])\n",
        "\n",
        "# Drop the \"jobedu\" column from the dataframe.\n",
        "data.drop('jobedu', axis = 1, inplace = True)\n",
        "\n",
        "# Printing the Dataset\n",
        "data.head()"
      ],
      "execution_count": null,
      "outputs": [
        {
          "output_type": "execute_result",
          "data": {
            "text/html": [
              "<div>\n",
              "<style scoped>\n",
              "    .dataframe tbody tr th:only-of-type {\n",
              "        vertical-align: middle;\n",
              "    }\n",
              "\n",
              "    .dataframe tbody tr th {\n",
              "        vertical-align: top;\n",
              "    }\n",
              "\n",
              "    .dataframe thead th {\n",
              "        text-align: right;\n",
              "    }\n",
              "</style>\n",
              "<table border=\"1\" class=\"dataframe\">\n",
              "  <thead>\n",
              "    <tr style=\"text-align: right;\">\n",
              "      <th></th>\n",
              "      <th>age</th>\n",
              "      <th>salary</th>\n",
              "      <th>balance</th>\n",
              "      <th>marital</th>\n",
              "      <th>targeted</th>\n",
              "      <th>default</th>\n",
              "      <th>housing</th>\n",
              "      <th>loan</th>\n",
              "      <th>contact</th>\n",
              "      <th>day</th>\n",
              "      <th>month</th>\n",
              "      <th>duration</th>\n",
              "      <th>campaign</th>\n",
              "      <th>pdays</th>\n",
              "      <th>previous</th>\n",
              "      <th>poutcome</th>\n",
              "      <th>response</th>\n",
              "      <th>job</th>\n",
              "      <th>education</th>\n",
              "    </tr>\n",
              "  </thead>\n",
              "  <tbody>\n",
              "    <tr>\n",
              "      <th>0</th>\n",
              "      <td>58.0</td>\n",
              "      <td>100000</td>\n",
              "      <td>2143</td>\n",
              "      <td>married</td>\n",
              "      <td>yes</td>\n",
              "      <td>no</td>\n",
              "      <td>yes</td>\n",
              "      <td>no</td>\n",
              "      <td>unknown</td>\n",
              "      <td>5</td>\n",
              "      <td>may, 2017</td>\n",
              "      <td>261 sec</td>\n",
              "      <td>1</td>\n",
              "      <td>-1</td>\n",
              "      <td>0</td>\n",
              "      <td>unknown</td>\n",
              "      <td>no</td>\n",
              "      <td>management</td>\n",
              "      <td>tertiary</td>\n",
              "    </tr>\n",
              "    <tr>\n",
              "      <th>1</th>\n",
              "      <td>44.0</td>\n",
              "      <td>60000</td>\n",
              "      <td>29</td>\n",
              "      <td>single</td>\n",
              "      <td>yes</td>\n",
              "      <td>no</td>\n",
              "      <td>yes</td>\n",
              "      <td>no</td>\n",
              "      <td>unknown</td>\n",
              "      <td>5</td>\n",
              "      <td>may, 2017</td>\n",
              "      <td>151 sec</td>\n",
              "      <td>1</td>\n",
              "      <td>-1</td>\n",
              "      <td>0</td>\n",
              "      <td>unknown</td>\n",
              "      <td>no</td>\n",
              "      <td>technician</td>\n",
              "      <td>secondary</td>\n",
              "    </tr>\n",
              "    <tr>\n",
              "      <th>2</th>\n",
              "      <td>33.0</td>\n",
              "      <td>120000</td>\n",
              "      <td>2</td>\n",
              "      <td>married</td>\n",
              "      <td>yes</td>\n",
              "      <td>no</td>\n",
              "      <td>yes</td>\n",
              "      <td>yes</td>\n",
              "      <td>unknown</td>\n",
              "      <td>5</td>\n",
              "      <td>may, 2017</td>\n",
              "      <td>76 sec</td>\n",
              "      <td>1</td>\n",
              "      <td>-1</td>\n",
              "      <td>0</td>\n",
              "      <td>unknown</td>\n",
              "      <td>no</td>\n",
              "      <td>entrepreneur</td>\n",
              "      <td>secondary</td>\n",
              "    </tr>\n",
              "    <tr>\n",
              "      <th>3</th>\n",
              "      <td>47.0</td>\n",
              "      <td>20000</td>\n",
              "      <td>1506</td>\n",
              "      <td>married</td>\n",
              "      <td>no</td>\n",
              "      <td>no</td>\n",
              "      <td>yes</td>\n",
              "      <td>no</td>\n",
              "      <td>unknown</td>\n",
              "      <td>5</td>\n",
              "      <td>may, 2017</td>\n",
              "      <td>92 sec</td>\n",
              "      <td>1</td>\n",
              "      <td>-1</td>\n",
              "      <td>0</td>\n",
              "      <td>unknown</td>\n",
              "      <td>no</td>\n",
              "      <td>blue-collar</td>\n",
              "      <td>unknown</td>\n",
              "    </tr>\n",
              "    <tr>\n",
              "      <th>4</th>\n",
              "      <td>33.0</td>\n",
              "      <td>0</td>\n",
              "      <td>1</td>\n",
              "      <td>single</td>\n",
              "      <td>no</td>\n",
              "      <td>no</td>\n",
              "      <td>no</td>\n",
              "      <td>no</td>\n",
              "      <td>unknown</td>\n",
              "      <td>5</td>\n",
              "      <td>may, 2017</td>\n",
              "      <td>198 sec</td>\n",
              "      <td>1</td>\n",
              "      <td>-1</td>\n",
              "      <td>0</td>\n",
              "      <td>unknown</td>\n",
              "      <td>no</td>\n",
              "      <td>unknown</td>\n",
              "      <td>unknown</td>\n",
              "    </tr>\n",
              "  </tbody>\n",
              "</table>\n",
              "</div>"
            ],
            "text/plain": [
              "    age  salary  balance  marital  ... poutcome response           job  education\n",
              "0  58.0  100000     2143  married  ...  unknown       no    management   tertiary\n",
              "1  44.0   60000       29   single  ...  unknown       no    technician  secondary\n",
              "2  33.0  120000        2  married  ...  unknown       no  entrepreneur  secondary\n",
              "3  47.0   20000     1506  married  ...  unknown       no   blue-collar    unknown\n",
              "4  33.0       0        1   single  ...  unknown       no       unknown    unknown\n",
              "\n",
              "[5 rows x 19 columns]"
            ]
          },
          "metadata": {
            "tags": []
          },
          "execution_count": 28
        }
      ]
    },
    {
      "cell_type": "markdown",
      "metadata": {
        "id": "YenxFWX1R5RP"
      },
      "source": [
        "## **Lidando com missing values**"
      ]
    },
    {
      "cell_type": "code",
      "metadata": {
        "id": "PHVHkjL2TN9z",
        "outputId": "807b7900-241b-44f5-a2d6-ae16ce3ea0b5",
        "colab": {
          "base_uri": "https://localhost:8080/",
          "height": 372
        }
      },
      "source": [
        "# Checking the missing values\n",
        "data.isnull().sum()"
      ],
      "execution_count": null,
      "outputs": [
        {
          "output_type": "execute_result",
          "data": {
            "text/plain": [
              "age          20\n",
              "salary        0\n",
              "balance       0\n",
              "marital       0\n",
              "targeted      0\n",
              "default       0\n",
              "housing       0\n",
              "loan          0\n",
              "contact       0\n",
              "day           0\n",
              "month        50\n",
              "duration      0\n",
              "campaign      0\n",
              "pdays         0\n",
              "previous      0\n",
              "poutcome      0\n",
              "response     30\n",
              "job           0\n",
              "education     0\n",
              "dtype: int64"
            ]
          },
          "metadata": {
            "tags": []
          },
          "execution_count": 29
        }
      ]
    },
    {
      "cell_type": "markdown",
      "metadata": {
        "id": "cSDrgdh-CsKJ"
      },
      "source": [
        "https://towardsdatascience.com/exploratory-data-analysis-eda-python-87178e35b14\n",
        "\n"
      ]
    },
    {
      "cell_type": "markdown",
      "metadata": {
        "id": "ikR0Yu1nDjc4"
      },
      "source": [
        ""
      ]
    }
  ]
}