{
  "nbformat": 4,
  "nbformat_minor": 0,
  "metadata": {
    "colab": {
      "name": "Setembro Amarelo - Análise Exploratória.ipynb",
      "provenance": [],
      "authorship_tag": "ABX9TyOPDx8+24lioPjfAdMp7kRB",
      "include_colab_link": true
    },
    "kernelspec": {
      "name": "python3",
      "display_name": "Python 3"
    }
  },
  "cells": [
    {
      "cell_type": "markdown",
      "metadata": {
        "id": "view-in-github",
        "colab_type": "text"
      },
      "source": [
        "<a href=\"https://colab.research.google.com/github/amnacas/Portifolio/blob/master/Setembro_Amarelo_An%C3%A1lise_Explorat%C3%B3ria.ipynb\" target=\"_parent\"><img src=\"https://colab.research.google.com/assets/colab-badge.svg\" alt=\"Open In Colab\"/></a>"
      ]
    },
    {
      "cell_type": "markdown",
      "metadata": {
        "id": "NaHLJd58RT4v",
        "colab_type": "text"
      },
      "source": [
        "<img src=\"https://github.com/amnacas/Portifolio/blob/master/Setembro%20Amarelo.jpg?raw=true\">\n",
        "\n",
        "\n",
        "---\n",
        "\n"
      ]
    },
    {
      "cell_type": "markdown",
      "metadata": {
        "id": "-iD8OWxmRxrB",
        "colab_type": "text"
      },
      "source": [
        "# Análise exploratória dos dados de suicídios no Brasil (1985–2015)\n",
        "\n"
      ]
    },
    {
      "cell_type": "markdown",
      "metadata": {
        "id": "TolZfx4LidlA",
        "colab_type": "text"
      },
      "source": [
        "##Motivação\n",
        "\n",
        "A ídeia desse projeto é trazer uma luz para esse tema de extrema importância social, a prevenção ao suicídio, através da ótica de Data science e utilizando ferramentas básicas de Python. \n",
        "\n",
        "> Desde 2014, a Associação Brasileira de Psiquiatria – ABP, em parceria com o Conselho Federal de Medicina – CFM, organiza nacionalmente o Setembro Amarelo®. O dia 10 deste mês é, oficialmente, o Dia Mundial de Prevenção ao Suicídio, mas a campanha acontece durante todo o ano. \n",
        "\n",
        "> São registrados cerca de 12 mil suicídios todos os anos no Brasil e mais de 01 milhão no mundo. Trata-se de uma triste realidade, que registra cada vez mais casos, principalmente entre os jovens. Cerca de 96,8% dos casos de suicídio estavam relacionados a transtornos mentais. Em primeiro lugar está a depressão, seguida do transtorno bipolar e abuso de substâncias.\n",
        "\n",
        "*Texto retidado do site da [Campanha Setembro Amarelo](https://www.setembroamarelo.com/).*\n",
        "\n"
      ]
    },
    {
      "cell_type": "markdown",
      "metadata": {
        "id": "AG6bQwF1iGkF",
        "colab_type": "text"
      },
      "source": [
        "\n",
        "## Dados\n",
        "\n",
        "O *dataset* utilizado nessa análise é proveniente do [Kaggle](https://www.kaggle.com/russellyates88/suicide-rates-overview-1985-to-2016) e é composto por um conjunto de dados coletados das seguintes fontes:\n",
        "\n",
        "* World Health Organization. (2018). [Suicide prevention.](http://www.who.int/mental_health/suicide-prevention/en/)\n",
        "* United Nations Development Program. (2018). [Human development index (HDI).]( http://hdr.undp.org/en/indicators/137506)\n",
        "* World Bank. (2018). [World development indicators: GDP (current US$) by country:1985 to 2016.](http://databank.worldbank.org/data/source/world-development-indicators#)\n",
        "* Szamil. (2017). [Suicide in the Twenty-First Century dataset.](https://www.kaggle.com/szamil/suicide-in-the-twenty-first-century/notebook)"
      ]
    },
    {
      "cell_type": "markdown",
      "metadata": {
        "id": "OgvKja59iig5",
        "colab_type": "text"
      },
      "source": [
        "## Objetivos\n",
        "\n",
        "Contribuir para um maior entendimento da extensão desse problema no Brasil visando divulgar e incentivar a campanha do [Setembro Amarelo](https://www.setembroamarelo.com/).\n",
        "\n",
        "Para isso serão levantados os seguintes questionamentos:\n",
        "*  Como está a taxa de suicídio do Brasil quando comparado ao resto do mundo?\n",
        "* Qual é a faixa etaria das pessoas que comentem suicídio? Isso tem se alterado nos últimos 30 anos?\n",
        "* Há uma correlação da geração com a taxa de suicídio?\n",
        "* Existe uma tendêcia maior ao suicídio de acordo com o genêro?\n",
        "* Existe uma correlação da taxa de suicídio com dados econômicos do país?\n",
        "\n"
      ]
    },
    {
      "cell_type": "markdown",
      "metadata": {
        "id": "Boukn7OLnvd1",
        "colab_type": "text"
      },
      "source": [
        "## Dicionário de Variáveis\n",
        "\n",
        "O arquivo .csv importado possui 12 colunas, provenientes da compilação dos 4 *datasets* mencionados anteriormente. \n",
        "\n",
        "**Listagem e descrição das Variáveis**:\n",
        "\n",
        "* *country*: país onde os dados foram registrados\n",
        " * 101 países\n",
        "* *year*: ano em que os dados foram registrados\n",
        " * 1987 a 2016\n",
        "* *sex*: sexo considerado no registro\n",
        " * *male* – masculino \n",
        " * *female* – feminino\n",
        "* *age*: faixa etária considerada\n",
        " * 5-14 anos\n",
        " * 15-24 anos\n",
        " * 25-34 anos\n",
        " * 35-54 anos\n",
        " * 55-74 anos\n",
        " * 75+ anos\n",
        "* *suicides_no*: número de suicídios\n",
        "* *population*: população para o grupo\n",
        "* *suicides/100k pop*: número de suicídios por 100 mil habitantes\n",
        "* *country_year*: identificador contendo country + year\n",
        "* *HDI for year*: Índice de Desenvolvimento Humano (IDH) para o ano\n",
        "* *gdp_for_year*: Produto Interno Bruto (PIB) para o ano\n",
        "* *gdp_per_capita*: Produto Interno Bruto (PIB) per capita\n"
      ]
    },
    {
      "cell_type": "markdown",
      "metadata": {
        "id": "0HKG83ldszAy",
        "colab_type": "text"
      },
      "source": [
        "## Bibliotecas que serão utilizadas"
      ]
    },
    {
      "cell_type": "code",
      "metadata": {
        "id": "O4xbOItgs_cq",
        "colab_type": "code",
        "colab": {}
      },
      "source": [
        "# Importando as bibliotecas necessárias \n",
        "import pandas as pd\n",
        "import numpy as np\n",
        "import matplotlib.pyplot as plt\n",
        "import seaborn as sns\n",
        "%matplotlib inline\n",
        "\n",
        "# Importando os dados de suicídio para um dataframe\n",
        "df = pd.read_csv(\"https://raw.githubusercontent.com/amnacas/Portifolio/master/master.csv\")\n",
        "\n",
        "# %matplotlib inline sets the backend of matplotlib to the 'inline' backend.\n",
        "# With this backend, the output of plotting commands is displayed inline within\n",
        "# frontends like the Jupyter notebook, directly below the code cell that produced it.\n",
        "# The resulting plots will then also be stored in the notebook document."
      ],
      "execution_count": 5,
      "outputs": []
    },
    {
      "cell_type": "markdown",
      "metadata": {
        "id": "_TonSt_Qsqvb",
        "colab_type": "text"
      },
      "source": [
        "## Análise dos Dados\n",
        "\n",
        "Esse *dataframe* é um conjunto de dados obtido a partir do Kaggle conforme dito anteriormente e é composto por dados de 4 fontes diferentes. \n",
        "Na junção dos 4 conjuntos de dados foi realizada a uniformização e tratamento dos dados, o que facilitará a nossa análise. \n",
        "\n",
        "O conjunto de dados é composto por 12 colunas e 27.820 linhas conforme apresentados abaixo:"
      ]
    },
    {
      "cell_type": "code",
      "metadata": {
        "id": "abL-9YGKvFOr",
        "colab_type": "code",
        "colab": {
          "base_uri": "https://localhost:8080/",
          "height": 212
        },
        "outputId": "80082d54-8a49-45b1-e894-b89248808d58"
      },
      "source": [
        "# ver o formato do DataFrame\n",
        "print(\"Formato do DataFrame: \", df.shape)\n",
        "\n",
        "# ver as 5 primeiras entradas dos dataset\n",
        "df.head()"
      ],
      "execution_count": 9,
      "outputs": [
        {
          "output_type": "stream",
          "text": [
            "Formato do DataFrame:  (27820, 12)\n"
          ],
          "name": "stdout"
        },
        {
          "output_type": "execute_result",
          "data": {
            "text/html": [
              "<div>\n",
              "<style scoped>\n",
              "    .dataframe tbody tr th:only-of-type {\n",
              "        vertical-align: middle;\n",
              "    }\n",
              "\n",
              "    .dataframe tbody tr th {\n",
              "        vertical-align: top;\n",
              "    }\n",
              "\n",
              "    .dataframe thead th {\n",
              "        text-align: right;\n",
              "    }\n",
              "</style>\n",
              "<table border=\"1\" class=\"dataframe\">\n",
              "  <thead>\n",
              "    <tr style=\"text-align: right;\">\n",
              "      <th></th>\n",
              "      <th>country</th>\n",
              "      <th>year</th>\n",
              "      <th>sex</th>\n",
              "      <th>age</th>\n",
              "      <th>suicides_no</th>\n",
              "      <th>population</th>\n",
              "      <th>suicides/100k pop</th>\n",
              "      <th>country-year</th>\n",
              "      <th>HDI for year</th>\n",
              "      <th>gdp_for_year ($)</th>\n",
              "      <th>gdp_per_capita ($)</th>\n",
              "      <th>generation</th>\n",
              "    </tr>\n",
              "  </thead>\n",
              "  <tbody>\n",
              "    <tr>\n",
              "      <th>0</th>\n",
              "      <td>Albania</td>\n",
              "      <td>1987</td>\n",
              "      <td>male</td>\n",
              "      <td>15-24 years</td>\n",
              "      <td>21</td>\n",
              "      <td>312900</td>\n",
              "      <td>6.71</td>\n",
              "      <td>Albania1987</td>\n",
              "      <td>NaN</td>\n",
              "      <td>2,156,624,900</td>\n",
              "      <td>796</td>\n",
              "      <td>Generation X</td>\n",
              "    </tr>\n",
              "    <tr>\n",
              "      <th>1</th>\n",
              "      <td>Albania</td>\n",
              "      <td>1987</td>\n",
              "      <td>male</td>\n",
              "      <td>35-54 years</td>\n",
              "      <td>16</td>\n",
              "      <td>308000</td>\n",
              "      <td>5.19</td>\n",
              "      <td>Albania1987</td>\n",
              "      <td>NaN</td>\n",
              "      <td>2,156,624,900</td>\n",
              "      <td>796</td>\n",
              "      <td>Silent</td>\n",
              "    </tr>\n",
              "    <tr>\n",
              "      <th>2</th>\n",
              "      <td>Albania</td>\n",
              "      <td>1987</td>\n",
              "      <td>female</td>\n",
              "      <td>15-24 years</td>\n",
              "      <td>14</td>\n",
              "      <td>289700</td>\n",
              "      <td>4.83</td>\n",
              "      <td>Albania1987</td>\n",
              "      <td>NaN</td>\n",
              "      <td>2,156,624,900</td>\n",
              "      <td>796</td>\n",
              "      <td>Generation X</td>\n",
              "    </tr>\n",
              "    <tr>\n",
              "      <th>3</th>\n",
              "      <td>Albania</td>\n",
              "      <td>1987</td>\n",
              "      <td>male</td>\n",
              "      <td>75+ years</td>\n",
              "      <td>1</td>\n",
              "      <td>21800</td>\n",
              "      <td>4.59</td>\n",
              "      <td>Albania1987</td>\n",
              "      <td>NaN</td>\n",
              "      <td>2,156,624,900</td>\n",
              "      <td>796</td>\n",
              "      <td>G.I. Generation</td>\n",
              "    </tr>\n",
              "    <tr>\n",
              "      <th>4</th>\n",
              "      <td>Albania</td>\n",
              "      <td>1987</td>\n",
              "      <td>male</td>\n",
              "      <td>25-34 years</td>\n",
              "      <td>9</td>\n",
              "      <td>274300</td>\n",
              "      <td>3.28</td>\n",
              "      <td>Albania1987</td>\n",
              "      <td>NaN</td>\n",
              "      <td>2,156,624,900</td>\n",
              "      <td>796</td>\n",
              "      <td>Boomers</td>\n",
              "    </tr>\n",
              "  </tbody>\n",
              "</table>\n",
              "</div>"
            ],
            "text/plain": [
              "   country  year  ... gdp_per_capita ($)       generation\n",
              "0  Albania  1987  ...                796     Generation X\n",
              "1  Albania  1987  ...                796           Silent\n",
              "2  Albania  1987  ...                796     Generation X\n",
              "3  Albania  1987  ...                796  G.I. Generation\n",
              "4  Albania  1987  ...                796          Boomers\n",
              "\n",
              "[5 rows x 12 columns]"
            ]
          },
          "metadata": {
            "tags": []
          },
          "execution_count": 9
        }
      ]
    },
    {
      "cell_type": "markdown",
      "metadata": {
        "id": "lLduPZvR3i9r",
        "colab_type": "text"
      },
      "source": [
        "#Continua..."
      ]
    }
  ]
}